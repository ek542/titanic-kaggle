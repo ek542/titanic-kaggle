{
 "cells": [
  {
   "cell_type": "code",
   "execution_count": 1,
   "id": "strong-clarity",
   "metadata": {},
   "outputs": [],
   "source": [
    "import numpy as np\n",
    "import pandas as pd\n",
    "import matplotlib.pyplot as plt\n",
    "import seaborn as sns\n",
    "%matplotlib inline"
   ]
  },
  {
   "cell_type": "code",
   "execution_count": 2,
   "id": "respiratory-island",
   "metadata": {},
   "outputs": [],
   "source": [
    "train = pd.read_csv('titanic/train.csv')\n",
    "test = pd.read_csv('titanic/test.csv')"
   ]
  },
  {
   "cell_type": "code",
   "execution_count": 3,
   "id": "welsh-australian",
   "metadata": {},
   "outputs": [
    {
     "data": {
      "text/html": [
       "<div>\n",
       "<style scoped>\n",
       "    .dataframe tbody tr th:only-of-type {\n",
       "        vertical-align: middle;\n",
       "    }\n",
       "\n",
       "    .dataframe tbody tr th {\n",
       "        vertical-align: top;\n",
       "    }\n",
       "\n",
       "    .dataframe thead th {\n",
       "        text-align: right;\n",
       "    }\n",
       "</style>\n",
       "<table border=\"1\" class=\"dataframe\">\n",
       "  <thead>\n",
       "    <tr style=\"text-align: right;\">\n",
       "      <th></th>\n",
       "      <th>PassengerId</th>\n",
       "      <th>Survived</th>\n",
       "      <th>Pclass</th>\n",
       "      <th>Name</th>\n",
       "      <th>Sex</th>\n",
       "      <th>Age</th>\n",
       "      <th>SibSp</th>\n",
       "      <th>Parch</th>\n",
       "      <th>Ticket</th>\n",
       "      <th>Fare</th>\n",
       "      <th>Cabin</th>\n",
       "      <th>Embarked</th>\n",
       "    </tr>\n",
       "  </thead>\n",
       "  <tbody>\n",
       "    <tr>\n",
       "      <td>0</td>\n",
       "      <td>1</td>\n",
       "      <td>0</td>\n",
       "      <td>3</td>\n",
       "      <td>Braund, Mr. Owen Harris</td>\n",
       "      <td>male</td>\n",
       "      <td>22.0</td>\n",
       "      <td>1</td>\n",
       "      <td>0</td>\n",
       "      <td>A/5 21171</td>\n",
       "      <td>7.2500</td>\n",
       "      <td>NaN</td>\n",
       "      <td>S</td>\n",
       "    </tr>\n",
       "    <tr>\n",
       "      <td>1</td>\n",
       "      <td>2</td>\n",
       "      <td>1</td>\n",
       "      <td>1</td>\n",
       "      <td>Cumings, Mrs. John Bradley (Florence Briggs Th...</td>\n",
       "      <td>female</td>\n",
       "      <td>38.0</td>\n",
       "      <td>1</td>\n",
       "      <td>0</td>\n",
       "      <td>PC 17599</td>\n",
       "      <td>71.2833</td>\n",
       "      <td>C85</td>\n",
       "      <td>C</td>\n",
       "    </tr>\n",
       "    <tr>\n",
       "      <td>2</td>\n",
       "      <td>3</td>\n",
       "      <td>1</td>\n",
       "      <td>3</td>\n",
       "      <td>Heikkinen, Miss. Laina</td>\n",
       "      <td>female</td>\n",
       "      <td>26.0</td>\n",
       "      <td>0</td>\n",
       "      <td>0</td>\n",
       "      <td>STON/O2. 3101282</td>\n",
       "      <td>7.9250</td>\n",
       "      <td>NaN</td>\n",
       "      <td>S</td>\n",
       "    </tr>\n",
       "    <tr>\n",
       "      <td>3</td>\n",
       "      <td>4</td>\n",
       "      <td>1</td>\n",
       "      <td>1</td>\n",
       "      <td>Futrelle, Mrs. Jacques Heath (Lily May Peel)</td>\n",
       "      <td>female</td>\n",
       "      <td>35.0</td>\n",
       "      <td>1</td>\n",
       "      <td>0</td>\n",
       "      <td>113803</td>\n",
       "      <td>53.1000</td>\n",
       "      <td>C123</td>\n",
       "      <td>S</td>\n",
       "    </tr>\n",
       "    <tr>\n",
       "      <td>4</td>\n",
       "      <td>5</td>\n",
       "      <td>0</td>\n",
       "      <td>3</td>\n",
       "      <td>Allen, Mr. William Henry</td>\n",
       "      <td>male</td>\n",
       "      <td>35.0</td>\n",
       "      <td>0</td>\n",
       "      <td>0</td>\n",
       "      <td>373450</td>\n",
       "      <td>8.0500</td>\n",
       "      <td>NaN</td>\n",
       "      <td>S</td>\n",
       "    </tr>\n",
       "  </tbody>\n",
       "</table>\n",
       "</div>"
      ],
      "text/plain": [
       "   PassengerId  Survived  Pclass  \\\n",
       "0            1         0       3   \n",
       "1            2         1       1   \n",
       "2            3         1       3   \n",
       "3            4         1       1   \n",
       "4            5         0       3   \n",
       "\n",
       "                                                Name     Sex   Age  SibSp  \\\n",
       "0                            Braund, Mr. Owen Harris    male  22.0      1   \n",
       "1  Cumings, Mrs. John Bradley (Florence Briggs Th...  female  38.0      1   \n",
       "2                             Heikkinen, Miss. Laina  female  26.0      0   \n",
       "3       Futrelle, Mrs. Jacques Heath (Lily May Peel)  female  35.0      1   \n",
       "4                           Allen, Mr. William Henry    male  35.0      0   \n",
       "\n",
       "   Parch            Ticket     Fare Cabin Embarked  \n",
       "0      0         A/5 21171   7.2500   NaN        S  \n",
       "1      0          PC 17599  71.2833   C85        C  \n",
       "2      0  STON/O2. 3101282   7.9250   NaN        S  \n",
       "3      0            113803  53.1000  C123        S  \n",
       "4      0            373450   8.0500   NaN        S  "
      ]
     },
     "execution_count": 3,
     "metadata": {},
     "output_type": "execute_result"
    }
   ],
   "source": [
    "train.head()"
   ]
  },
  {
   "cell_type": "code",
   "execution_count": 4,
   "id": "secure-mention",
   "metadata": {},
   "outputs": [
    {
     "data": {
      "text/html": [
       "<div>\n",
       "<style scoped>\n",
       "    .dataframe tbody tr th:only-of-type {\n",
       "        vertical-align: middle;\n",
       "    }\n",
       "\n",
       "    .dataframe tbody tr th {\n",
       "        vertical-align: top;\n",
       "    }\n",
       "\n",
       "    .dataframe thead th {\n",
       "        text-align: right;\n",
       "    }\n",
       "</style>\n",
       "<table border=\"1\" class=\"dataframe\">\n",
       "  <thead>\n",
       "    <tr style=\"text-align: right;\">\n",
       "      <th></th>\n",
       "      <th>PassengerId</th>\n",
       "      <th>Pclass</th>\n",
       "      <th>Name</th>\n",
       "      <th>Sex</th>\n",
       "      <th>Age</th>\n",
       "      <th>SibSp</th>\n",
       "      <th>Parch</th>\n",
       "      <th>Ticket</th>\n",
       "      <th>Fare</th>\n",
       "      <th>Cabin</th>\n",
       "      <th>Embarked</th>\n",
       "    </tr>\n",
       "  </thead>\n",
       "  <tbody>\n",
       "    <tr>\n",
       "      <td>0</td>\n",
       "      <td>892</td>\n",
       "      <td>3</td>\n",
       "      <td>Kelly, Mr. James</td>\n",
       "      <td>male</td>\n",
       "      <td>34.5</td>\n",
       "      <td>0</td>\n",
       "      <td>0</td>\n",
       "      <td>330911</td>\n",
       "      <td>7.8292</td>\n",
       "      <td>NaN</td>\n",
       "      <td>Q</td>\n",
       "    </tr>\n",
       "    <tr>\n",
       "      <td>1</td>\n",
       "      <td>893</td>\n",
       "      <td>3</td>\n",
       "      <td>Wilkes, Mrs. James (Ellen Needs)</td>\n",
       "      <td>female</td>\n",
       "      <td>47.0</td>\n",
       "      <td>1</td>\n",
       "      <td>0</td>\n",
       "      <td>363272</td>\n",
       "      <td>7.0000</td>\n",
       "      <td>NaN</td>\n",
       "      <td>S</td>\n",
       "    </tr>\n",
       "    <tr>\n",
       "      <td>2</td>\n",
       "      <td>894</td>\n",
       "      <td>2</td>\n",
       "      <td>Myles, Mr. Thomas Francis</td>\n",
       "      <td>male</td>\n",
       "      <td>62.0</td>\n",
       "      <td>0</td>\n",
       "      <td>0</td>\n",
       "      <td>240276</td>\n",
       "      <td>9.6875</td>\n",
       "      <td>NaN</td>\n",
       "      <td>Q</td>\n",
       "    </tr>\n",
       "    <tr>\n",
       "      <td>3</td>\n",
       "      <td>895</td>\n",
       "      <td>3</td>\n",
       "      <td>Wirz, Mr. Albert</td>\n",
       "      <td>male</td>\n",
       "      <td>27.0</td>\n",
       "      <td>0</td>\n",
       "      <td>0</td>\n",
       "      <td>315154</td>\n",
       "      <td>8.6625</td>\n",
       "      <td>NaN</td>\n",
       "      <td>S</td>\n",
       "    </tr>\n",
       "    <tr>\n",
       "      <td>4</td>\n",
       "      <td>896</td>\n",
       "      <td>3</td>\n",
       "      <td>Hirvonen, Mrs. Alexander (Helga E Lindqvist)</td>\n",
       "      <td>female</td>\n",
       "      <td>22.0</td>\n",
       "      <td>1</td>\n",
       "      <td>1</td>\n",
       "      <td>3101298</td>\n",
       "      <td>12.2875</td>\n",
       "      <td>NaN</td>\n",
       "      <td>S</td>\n",
       "    </tr>\n",
       "  </tbody>\n",
       "</table>\n",
       "</div>"
      ],
      "text/plain": [
       "   PassengerId  Pclass                                          Name     Sex  \\\n",
       "0          892       3                              Kelly, Mr. James    male   \n",
       "1          893       3              Wilkes, Mrs. James (Ellen Needs)  female   \n",
       "2          894       2                     Myles, Mr. Thomas Francis    male   \n",
       "3          895       3                              Wirz, Mr. Albert    male   \n",
       "4          896       3  Hirvonen, Mrs. Alexander (Helga E Lindqvist)  female   \n",
       "\n",
       "    Age  SibSp  Parch   Ticket     Fare Cabin Embarked  \n",
       "0  34.5      0      0   330911   7.8292   NaN        Q  \n",
       "1  47.0      1      0   363272   7.0000   NaN        S  \n",
       "2  62.0      0      0   240276   9.6875   NaN        Q  \n",
       "3  27.0      0      0   315154   8.6625   NaN        S  \n",
       "4  22.0      1      1  3101298  12.2875   NaN        S  "
      ]
     },
     "execution_count": 4,
     "metadata": {},
     "output_type": "execute_result"
    }
   ],
   "source": [
    "test.head()"
   ]
  },
  {
   "cell_type": "markdown",
   "id": "monthly-credit",
   "metadata": {},
   "source": [
    "# Data Exploration"
   ]
  },
  {
   "cell_type": "markdown",
   "id": "wanted-qualification",
   "metadata": {},
   "source": [
    "Plot heatmap to highlight features with missing values.\n",
    "Cabin has several missing values. Age has some missing values, which can be filled in."
   ]
  },
  {
   "cell_type": "code",
   "execution_count": 5,
   "id": "north-sleeping",
   "metadata": {},
   "outputs": [
    {
     "data": {
      "text/plain": [
       "<AxesSubplot:>"
      ]
     },
     "execution_count": 5,
     "metadata": {},
     "output_type": "execute_result"
    },
    {
     "data": {
      "image/png": "[encoded data removed]",
      "text/plain": [
       "<Figure size 432x288 with 1 Axes>"
      ]
     },
     "metadata": {
      "needs_background": "light"
     },
     "output_type": "display_data"
    }
   ],
   "source": [
    "sns.heatmap(train.isnull(), yticklabels=False, cbar=False)"
   ]
  },
  {
   "cell_type": "markdown",
   "id": "duplicate-brisbane",
   "metadata": {},
   "source": [
    "Plot histograms and Boxplots to reveal trends in features as well as relationships between different features."
   ]
  },
  {
   "cell_type": "code",
   "execution_count": 6,
   "id": "virtual-fetish",
   "metadata": {},
   "outputs": [
    {
     "data": {
      "text/plain": [
       "<AxesSubplot:xlabel='Survived', ylabel='count'>"
      ]
     },
     "execution_count": 6,
     "metadata": {},
     "output_type": "execute_result"
    },
    {
     "data": {
      "image/png": "[encoded data removed]",
      "text/plain": [
       "<Figure size 432x288 with 1 Axes>"
      ]
     },
     "metadata": {},
     "output_type": "display_data"
    }
   ],
   "source": [
    "sns.set_style('whitegrid')\n",
    "sns.countplot(x='Survived', hue='Sex', data=train)"
   ]
  },
  {
   "cell_type": "code",
   "execution_count": 7,
   "id": "unlikely-belgium",
   "metadata": {},
   "outputs": [
    {
     "data": {
      "text/plain": [
       "<AxesSubplot:xlabel='Survived', ylabel='count'>"
      ]
     },
     "execution_count": 7,
     "metadata": {},
     "output_type": "execute_result"
    },
    {
     "data": {
      "image/png": "[encoded data removed]",
      "text/plain": [
       "<Figure size 432x288 with 1 Axes>"
      ]
     },
     "metadata": {},
     "output_type": "display_data"
    }
   ],
   "source": [
    "sns.set_style('whitegrid')\n",
    "sns.countplot(x='Survived', hue='Pclass', data=train)"
   ]
  },
  {
   "cell_type": "code",
   "execution_count": 8,
   "id": "miniature-renaissance",
   "metadata": {},
   "outputs": [
    {
     "data": {
      "text/plain": [
       "<AxesSubplot:xlabel='Age', ylabel='Count'>"
      ]
     },
     "execution_count": 8,
     "metadata": {},
     "output_type": "execute_result"
    },
    {
     "data": {
      "image/png": "[encoded data removed]",
      "text/plain": [
       "<Figure size 432x288 with 1 Axes>"
      ]
     },
     "metadata": {},
     "output_type": "display_data"
    }
   ],
   "source": [
    "sns.set_style('whitegrid')\n",
    "sns.histplot(train['Age'].dropna())"
   ]
  },
  {
   "cell_type": "code",
   "execution_count": 9,
   "id": "optical-lambda",
   "metadata": {},
   "outputs": [
    {
     "data": {
      "text/plain": [
       "<AxesSubplot:xlabel='SibSp', ylabel='count'>"
      ]
     },
     "execution_count": 9,
     "metadata": {},
     "output_type": "execute_result"
    },
    {
     "data": {
      "image/png": "[encoded data removed]",
      "text/plain": [
       "<Figure size 432x288 with 1 Axes>"
      ]
     },
     "metadata": {},
     "output_type": "display_data"
    }
   ],
   "source": [
    "sns.countplot(x='SibSp', data=train)"
   ]
  },
  {
   "cell_type": "code",
   "execution_count": 10,
   "id": "domestic-standard",
   "metadata": {},
   "outputs": [
    {
     "data": {
      "text/plain": [
       "<AxesSubplot:xlabel='Fare', ylabel='Count'>"
      ]
     },
     "execution_count": 10,
     "metadata": {},
     "output_type": "execute_result"
    },
    {
     "data": {
      "image/png": "[encoded data removed]",
      "text/plain": [
       "<Figure size 432x288 with 1 Axes>"
      ]
     },
     "metadata": {},
     "output_type": "display_data"
    }
   ],
   "source": [
    "sns.histplot(train['Fare'], bins=30)"
   ]
  },
  {
   "cell_type": "code",
   "execution_count": 11,
   "id": "fleet-delivery",
   "metadata": {},
   "outputs": [
    {
     "data": {
      "text/plain": [
       "<AxesSubplot:xlabel='Pclass', ylabel='Age'>"
      ]
     },
     "execution_count": 11,
     "metadata": {},
     "output_type": "execute_result"
    },
    {
     "data": {
      "image/png": "[encoded data removed]",
      "text/plain": [
       "<Figure size 432x288 with 1 Axes>"
      ]
     },
     "metadata": {},
     "output_type": "display_data"
    }
   ],
   "source": [
    "sns.boxplot(x='Pclass',y='Age',data=train,)"
   ]
  },
  {
   "cell_type": "code",
   "execution_count": 12,
   "id": "mighty-northeast",
   "metadata": {},
   "outputs": [
    {
     "data": {
      "text/plain": [
       "<AxesSubplot:xlabel='Sex', ylabel='Age'>"
      ]
     },
     "execution_count": 12,
     "metadata": {},
     "output_type": "execute_result"
    },
    {
     "data": {
      "image/png": "[encoded data removed]",
      "text/plain": [
       "<Figure size 432x288 with 1 Axes>"
      ]
     },
     "metadata": {},
     "output_type": "display_data"
    }
   ],
   "source": [
    "sns.boxplot(x='Sex',y='Age',data=train)"
   ]
  },
  {
   "cell_type": "markdown",
   "id": "respected-rabbit",
   "metadata": {},
   "source": [
    "# Data Processing"
   ]
  },
  {
   "cell_type": "markdown",
   "id": "working-bracelet",
   "metadata": {},
   "source": [
    "One way to fill in missing age values is by using the mean age of all the passengers. However, since it was observed that the passengers in the higher classes tend to be older, I am filling in average age based on Pclass."
   ]
  },
  {
   "cell_type": "code",
   "execution_count": 13,
   "id": "orange-decimal",
   "metadata": {},
   "outputs": [],
   "source": [
    "train['Age'] = train.groupby(['Pclass'])['Age'].transform(lambda x: x.fillna(x.mean()))\n",
    "test['Age'] = test.groupby(['Pclass'])['Age'].transform(lambda x: x.fillna(x.mean()))"
   ]
  },
  {
   "cell_type": "markdown",
   "id": "gorgeous-terminology",
   "metadata": {},
   "source": [
    "There are two missing values for the Embarked feature, which are filled in using the mode of the column."
   ]
  },
  {
   "cell_type": "code",
   "execution_count": 14,
   "id": "opened-vinyl",
   "metadata": {},
   "outputs": [],
   "source": [
    "train['Embarked'] = train['Embarked'].fillna(train['Embarked'].mode()[0])"
   ]
  },
  {
   "cell_type": "markdown",
   "id": "radical-discharge",
   "metadata": {},
   "source": [
    "Missing values for the Fare feature are filled in using the mean of the column."
   ]
  },
  {
   "cell_type": "code",
   "execution_count": 15,
   "id": "aggressive-syracuse",
   "metadata": {},
   "outputs": [],
   "source": [
    "test['Fare'] = test['Fare'].fillna(test['Fare'].mean())"
   ]
  },
  {
   "cell_type": "markdown",
   "id": "becoming-insider",
   "metadata": {},
   "source": [
    "Tried 2 different ways of dealing with Cabin column: first was to drop it and second was to extract the 'deck' alpha values from it as a new column. This second case is an instance of feature engineering. The code for the second case is commented out because it was not eventually used as it did not seem to perform too well. "
   ]
  },
  {
   "cell_type": "code",
   "execution_count": 16,
   "id": "laden-train",
   "metadata": {},
   "outputs": [],
   "source": [
    "# combined = [train, test]\n",
    "\n",
    "# for data in combined:\n",
    "#     data['Cabin'] = data['Cabin'].fillna(\"X\")\n",
    "#     data['Deck'] = data['Cabin'].apply(lambda x: x[0].upper())\n",
    "\n",
    "# train = train.drop(['Cabin'], axis=1)\n",
    "# test = test.drop(['Cabin'], axis=1)"
   ]
  },
  {
   "cell_type": "code",
   "execution_count": 17,
   "id": "attempted-hybrid",
   "metadata": {},
   "outputs": [],
   "source": [
    "# train.drop(train.loc[train['Deck'] == 'T'].index, inplace=True)"
   ]
  },
  {
   "cell_type": "code",
   "execution_count": 18,
   "id": "sized-thought",
   "metadata": {},
   "outputs": [],
   "source": [
    "# train['Deck'].value_counts()"
   ]
  },
  {
   "cell_type": "markdown",
   "id": "empirical-hypothesis",
   "metadata": {},
   "source": [
    "Tried 2 different ways of dealing with the Name column: first was to drop it and second was to extract the 'Title' from it as a new column. This second case is an instance of feature engineering. The code for the second case is commented out because it was not eventually used as it did not seem to perform too well. \n",
    "Reference for Title extraction code: https://www.datacamp.com/community/tutorials/feature-engineering-kaggle "
   ]
  },
  {
   "cell_type": "code",
   "execution_count": 19,
   "id": "revised-relation",
   "metadata": {},
   "outputs": [],
   "source": [
    "# import re\n",
    "# train['Title'] = train.Name.apply(lambda x: re.search(' ([A-Z][a-z]+)\\.', x).group(1))\n",
    "# sns.countplot(x='Title', data=train);\n",
    "# plt.xticks(rotation=45);\n",
    "# train['Title'] = train['Title'].replace({'Mlle':'Miss', 'Mme':'Mrs', 'Ms':'Miss'})\n",
    "# train['Title'] = train['Title'].replace(['Don', 'Dona', 'Rev', 'Dr',\n",
    "#                                             'Major', 'Lady', 'Sir', 'Col', 'Capt', 'Countess', 'Jonkheer'],'Rare')\n",
    "# sns.countplot(x='Title', data=train);\n",
    "# plt.xticks(rotation=45);"
   ]
  },
  {
   "cell_type": "markdown",
   "id": "attended-correspondence",
   "metadata": {},
   "source": [
    "Tried 2 different ways of dealing with the SibSp and Parch features. Since they both represent # of people traveling with the passenger, they can be combined by adding to form a feature called 'Num_Relatives' (number of relatives). Additionally, a categorical column called 'Travelled_Alone' can be generated that takes 0/1 values depending on whether passenger was alone or not. This is an instance of feature engineering. This case seemed to work well with the validation and test data and therefore was kept as a feature. "
   ]
  },
  {
   "cell_type": "code",
   "execution_count": 20,
   "id": "cooperative-production",
   "metadata": {},
   "outputs": [],
   "source": [
    "relatives = train['SibSp'] + train['Parch']\n",
    "train['Num_Relatives'] = train['SibSp'] + train['Parch']\n",
    "train.loc[train['Num_Relatives'] > 0, 'Travelled_Alone'] = 0\n",
    "train.loc[train['Num_Relatives'] == 0, 'Travelled_Alone'] = 1\n",
    "test['Num_Relatives'] = test['SibSp'] + test['Parch']\n",
    "test.loc[train['Num_Relatives'] > 0, 'Travelled_Alone'] = 0\n",
    "test.loc[train['Num_Relatives'] == 0, 'Travelled_Alone'] = 1"
   ]
  },
  {
   "cell_type": "code",
   "execution_count": 21,
   "id": "directed-uniform",
   "metadata": {},
   "outputs": [],
   "source": [
    "train.drop(['SibSp', 'Parch'], axis=1, inplace=True)\n",
    "test.drop(['SibSp', 'Parch'], axis=1, inplace=True)"
   ]
  },
  {
   "cell_type": "code",
   "execution_count": 22,
   "id": "olive-sphere",
   "metadata": {},
   "outputs": [],
   "source": [
    "train.drop(['Cabin'], axis=1, inplace=True)\n",
    "test.drop(['Cabin'], axis=1, inplace=True)"
   ]
  },
  {
   "cell_type": "code",
   "execution_count": 23,
   "id": "stretch-julian",
   "metadata": {},
   "outputs": [
    {
     "name": "stdout",
     "output_type": "stream",
     "text": [
      "<class 'pandas.core.frame.DataFrame'>\n",
      "RangeIndex: 891 entries, 0 to 890\n",
      "Data columns (total 11 columns):\n",
      "PassengerId        891 non-null int64\n",
      "Survived           891 non-null int64\n",
      "Pclass             891 non-null int64\n",
      "Name               891 non-null object\n",
      "Sex                891 non-null object\n",
      "Age                891 non-null float64\n",
      "Ticket             891 non-null object\n",
      "Fare               891 non-null float64\n",
      "Embarked           891 non-null object\n",
      "Num_Relatives      891 non-null int64\n",
      "Travelled_Alone    891 non-null float64\n",
      "dtypes: float64(3), int64(4), object(4)\n",
      "memory usage: 76.7+ KB\n"
     ]
    }
   ],
   "source": [
    "train.info()"
   ]
  },
  {
   "cell_type": "markdown",
   "id": "related-toyota",
   "metadata": {},
   "source": [
    "Name and Ticket are dropped because they have too many unique values and are not adding any useful information to the model. PassengerId is dropped as it is only relevant as a row Id but not relevant as a model input."
   ]
  },
  {
   "cell_type": "code",
   "execution_count": 24,
   "id": "metropolitan-immune",
   "metadata": {},
   "outputs": [],
   "source": [
    "train.drop(['Name', 'Ticket', 'PassengerId'], axis=1, inplace=True)\n",
    "test.drop(['Name', 'Ticket', 'PassengerId'], axis=1, inplace=True)"
   ]
  },
  {
   "cell_type": "markdown",
   "id": "blocked-machinery",
   "metadata": {},
   "source": [
    "One Hot Encoding is performed for the Sex and Embarked features on a combined set of the train and test data. This is done to ensure that if a category shows up in only the train or only the test data, a column is created for it in both dataframes. \n",
    "Note that in the cases when Deck and Title were used for training the model, those features were OHE as well. That part is commented out as it was an iteration that did not make it to the final model. "
   ]
  },
  {
   "cell_type": "code",
   "execution_count": 25,
   "id": "valid-michigan",
   "metadata": {},
   "outputs": [],
   "source": [
    "ohe = ['Sex', 'Embarked'] #'Deck', 'Title'\n",
    "combined_final = pd.concat([train, test], axis=0, sort=False)\n",
    "combined_final = pd.get_dummies(combined_final, prefix=ohe, columns=ohe, drop_first=True)"
   ]
  },
  {
   "cell_type": "code",
   "execution_count": 26,
   "id": "possible-annex",
   "metadata": {},
   "outputs": [],
   "source": [
    "df_cols = combined_final.columns"
   ]
  },
  {
   "cell_type": "code",
   "execution_count": 27,
   "id": "fundamental-granny",
   "metadata": {},
   "outputs": [],
   "source": [
    "df_train = combined_final.iloc[:891,:]\n",
    "df_test = combined_final.iloc[891:,:]"
   ]
  },
  {
   "cell_type": "code",
   "execution_count": 28,
   "id": "supposed-monitoring",
   "metadata": {},
   "outputs": [
    {
     "data": {
      "text/html": [
       "<div>\n",
       "<style scoped>\n",
       "    .dataframe tbody tr th:only-of-type {\n",
       "        vertical-align: middle;\n",
       "    }\n",
       "\n",
       "    .dataframe tbody tr th {\n",
       "        vertical-align: top;\n",
       "    }\n",
       "\n",
       "    .dataframe thead th {\n",
       "        text-align: right;\n",
       "    }\n",
       "</style>\n",
       "<table border=\"1\" class=\"dataframe\">\n",
       "  <thead>\n",
       "    <tr style=\"text-align: right;\">\n",
       "      <th></th>\n",
       "      <th>Survived</th>\n",
       "      <th>Pclass</th>\n",
       "      <th>Age</th>\n",
       "      <th>Fare</th>\n",
       "      <th>Num_Relatives</th>\n",
       "      <th>Travelled_Alone</th>\n",
       "      <th>Sex_male</th>\n",
       "      <th>Embarked_Q</th>\n",
       "      <th>Embarked_S</th>\n",
       "    </tr>\n",
       "  </thead>\n",
       "  <tbody>\n",
       "    <tr>\n",
       "      <td>0</td>\n",
       "      <td>0.0</td>\n",
       "      <td>3</td>\n",
       "      <td>22.00000</td>\n",
       "      <td>7.2500</td>\n",
       "      <td>1</td>\n",
       "      <td>0.0</td>\n",
       "      <td>1</td>\n",
       "      <td>0</td>\n",
       "      <td>1</td>\n",
       "    </tr>\n",
       "    <tr>\n",
       "      <td>1</td>\n",
       "      <td>1.0</td>\n",
       "      <td>1</td>\n",
       "      <td>38.00000</td>\n",
       "      <td>71.2833</td>\n",
       "      <td>1</td>\n",
       "      <td>0.0</td>\n",
       "      <td>0</td>\n",
       "      <td>0</td>\n",
       "      <td>0</td>\n",
       "    </tr>\n",
       "    <tr>\n",
       "      <td>2</td>\n",
       "      <td>1.0</td>\n",
       "      <td>3</td>\n",
       "      <td>26.00000</td>\n",
       "      <td>7.9250</td>\n",
       "      <td>0</td>\n",
       "      <td>1.0</td>\n",
       "      <td>0</td>\n",
       "      <td>0</td>\n",
       "      <td>1</td>\n",
       "    </tr>\n",
       "    <tr>\n",
       "      <td>3</td>\n",
       "      <td>1.0</td>\n",
       "      <td>1</td>\n",
       "      <td>35.00000</td>\n",
       "      <td>53.1000</td>\n",
       "      <td>1</td>\n",
       "      <td>0.0</td>\n",
       "      <td>0</td>\n",
       "      <td>0</td>\n",
       "      <td>1</td>\n",
       "    </tr>\n",
       "    <tr>\n",
       "      <td>4</td>\n",
       "      <td>0.0</td>\n",
       "      <td>3</td>\n",
       "      <td>35.00000</td>\n",
       "      <td>8.0500</td>\n",
       "      <td>0</td>\n",
       "      <td>1.0</td>\n",
       "      <td>1</td>\n",
       "      <td>0</td>\n",
       "      <td>1</td>\n",
       "    </tr>\n",
       "    <tr>\n",
       "      <td>...</td>\n",
       "      <td>...</td>\n",
       "      <td>...</td>\n",
       "      <td>...</td>\n",
       "      <td>...</td>\n",
       "      <td>...</td>\n",
       "      <td>...</td>\n",
       "      <td>...</td>\n",
       "      <td>...</td>\n",
       "      <td>...</td>\n",
       "    </tr>\n",
       "    <tr>\n",
       "      <td>886</td>\n",
       "      <td>0.0</td>\n",
       "      <td>2</td>\n",
       "      <td>27.00000</td>\n",
       "      <td>13.0000</td>\n",
       "      <td>0</td>\n",
       "      <td>1.0</td>\n",
       "      <td>1</td>\n",
       "      <td>0</td>\n",
       "      <td>1</td>\n",
       "    </tr>\n",
       "    <tr>\n",
       "      <td>887</td>\n",
       "      <td>1.0</td>\n",
       "      <td>1</td>\n",
       "      <td>19.00000</td>\n",
       "      <td>30.0000</td>\n",
       "      <td>0</td>\n",
       "      <td>1.0</td>\n",
       "      <td>0</td>\n",
       "      <td>0</td>\n",
       "      <td>1</td>\n",
       "    </tr>\n",
       "    <tr>\n",
       "      <td>888</td>\n",
       "      <td>0.0</td>\n",
       "      <td>3</td>\n",
       "      <td>25.14062</td>\n",
       "      <td>23.4500</td>\n",
       "      <td>3</td>\n",
       "      <td>0.0</td>\n",
       "      <td>0</td>\n",
       "      <td>0</td>\n",
       "      <td>1</td>\n",
       "    </tr>\n",
       "    <tr>\n",
       "      <td>889</td>\n",
       "      <td>1.0</td>\n",
       "      <td>1</td>\n",
       "      <td>26.00000</td>\n",
       "      <td>30.0000</td>\n",
       "      <td>0</td>\n",
       "      <td>1.0</td>\n",
       "      <td>1</td>\n",
       "      <td>0</td>\n",
       "      <td>0</td>\n",
       "    </tr>\n",
       "    <tr>\n",
       "      <td>890</td>\n",
       "      <td>0.0</td>\n",
       "      <td>3</td>\n",
       "      <td>32.00000</td>\n",
       "      <td>7.7500</td>\n",
       "      <td>0</td>\n",
       "      <td>1.0</td>\n",
       "      <td>1</td>\n",
       "      <td>1</td>\n",
       "      <td>0</td>\n",
       "    </tr>\n",
       "  </tbody>\n",
       "</table>\n",
       "<p>891 rows × 9 columns</p>\n",
       "</div>"
      ],
      "text/plain": [
       "     Survived  Pclass       Age     Fare  Num_Relatives  Travelled_Alone  \\\n",
       "0         0.0       3  22.00000   7.2500              1              0.0   \n",
       "1         1.0       1  38.00000  71.2833              1              0.0   \n",
       "2         1.0       3  26.00000   7.9250              0              1.0   \n",
       "3         1.0       1  35.00000  53.1000              1              0.0   \n",
       "4         0.0       3  35.00000   8.0500              0              1.0   \n",
       "..        ...     ...       ...      ...            ...              ...   \n",
       "886       0.0       2  27.00000  13.0000              0              1.0   \n",
       "887       1.0       1  19.00000  30.0000              0              1.0   \n",
       "888       0.0       3  25.14062  23.4500              3              0.0   \n",
       "889       1.0       1  26.00000  30.0000              0              1.0   \n",
       "890       0.0       3  32.00000   7.7500              0              1.0   \n",
       "\n",
       "     Sex_male  Embarked_Q  Embarked_S  \n",
       "0           1           0           1  \n",
       "1           0           0           0  \n",
       "2           0           0           1  \n",
       "3           0           0           1  \n",
       "4           1           0           1  \n",
       "..        ...         ...         ...  \n",
       "886         1           0           1  \n",
       "887         0           0           1  \n",
       "888         0           0           1  \n",
       "889         1           0           0  \n",
       "890         1           1           0  \n",
       "\n",
       "[891 rows x 9 columns]"
      ]
     },
     "execution_count": 28,
     "metadata": {},
     "output_type": "execute_result"
    }
   ],
   "source": [
    "df_train"
   ]
  },
  {
   "cell_type": "markdown",
   "id": "extensive-posting",
   "metadata": {},
   "source": [
    "Normalize the data using MinMaxScaler. Use the range from the training data and apply a transform to the test data."
   ]
  },
  {
   "cell_type": "code",
   "execution_count": 29,
   "id": "random-printing",
   "metadata": {},
   "outputs": [],
   "source": [
    "from sklearn.preprocessing import MinMaxScaler\n",
    "scaler = MinMaxScaler()\n",
    "train_arr = scaler.fit_transform(df_train)\n",
    "test_arr = scaler.transform(df_test)"
   ]
  },
  {
   "cell_type": "code",
   "execution_count": 30,
   "id": "elder-provision",
   "metadata": {},
   "outputs": [],
   "source": [
    "train_final = pd.DataFrame(train_arr, columns=df_cols)\n",
    "test_final = pd.DataFrame(test_arr, columns=df_cols)"
   ]
  },
  {
   "cell_type": "code",
   "execution_count": 31,
   "id": "fantastic-junction",
   "metadata": {},
   "outputs": [],
   "source": [
    "# train_final.drop(['Deck_T'], axis=1, inplace=True)\n",
    "# test_final.drop(['Deck_T'], axis=1, inplace=True)"
   ]
  },
  {
   "cell_type": "code",
   "execution_count": 32,
   "id": "finite-restaurant",
   "metadata": {},
   "outputs": [],
   "source": [
    "from sklearn.model_selection import train_test_split"
   ]
  },
  {
   "cell_type": "code",
   "execution_count": 33,
   "id": "worldwide-protest",
   "metadata": {},
   "outputs": [],
   "source": [
    "X_train, X_val, y_train, y_val = train_test_split(train_final.drop('Survived', axis=1), \n",
    "                                                    train_final['Survived'], test_size=0.30, \n",
    "                                                    random_state=101)"
   ]
  },
  {
   "cell_type": "markdown",
   "id": "cooked-mortgage",
   "metadata": {},
   "source": [
    "# Logistic Regression Model (Using sklearn - only for testing purposes)"
   ]
  },
  {
   "cell_type": "code",
   "execution_count": 34,
   "id": "conventional-emergency",
   "metadata": {},
   "outputs": [],
   "source": [
    "from sklearn.linear_model import LogisticRegression"
   ]
  },
  {
   "cell_type": "code",
   "execution_count": 35,
   "id": "fifth-skating",
   "metadata": {},
   "outputs": [
    {
     "data": {
      "text/plain": [
       "LogisticRegression()"
      ]
     },
     "execution_count": 35,
     "metadata": {},
     "output_type": "execute_result"
    }
   ],
   "source": [
    "logmodel = LogisticRegression()\n",
    "logmodel.fit(X_train,y_train)"
   ]
  },
  {
   "cell_type": "code",
   "execution_count": 36,
   "id": "aggregate-shareware",
   "metadata": {},
   "outputs": [],
   "source": [
    "predictions = logmodel.predict(X_val)"
   ]
  },
  {
   "cell_type": "code",
   "execution_count": 37,
   "id": "physical-vaccine",
   "metadata": {},
   "outputs": [],
   "source": [
    "from sklearn.metrics import classification_report"
   ]
  },
  {
   "cell_type": "code",
   "execution_count": 38,
   "id": "filled-washington",
   "metadata": {},
   "outputs": [
    {
     "name": "stdout",
     "output_type": "stream",
     "text": [
      "              precision    recall  f1-score   support\n",
      "\n",
      "         0.0       0.78      0.88      0.83       154\n",
      "         1.0       0.81      0.66      0.72       114\n",
      "\n",
      "    accuracy                           0.79       268\n",
      "   macro avg       0.79      0.77      0.78       268\n",
      "weighted avg       0.79      0.79      0.78       268\n",
      "\n"
     ]
    }
   ],
   "source": [
    "print(classification_report(y_val,predictions))"
   ]
  },
  {
   "cell_type": "code",
   "execution_count": 39,
   "id": "twenty-dressing",
   "metadata": {},
   "outputs": [
    {
     "data": {
      "text/plain": [
       "0.787"
      ]
     },
     "execution_count": 39,
     "metadata": {},
     "output_type": "execute_result"
    }
   ],
   "source": [
    "from sklearn.metrics import accuracy_score\n",
    "round((accuracy_score(y_val, predictions, normalize=True)),3)"
   ]
  },
  {
   "cell_type": "markdown",
   "id": "integral-plumbing",
   "metadata": {},
   "source": [
    "# Logistic Regression Model (using from scratch implementation - used as the actual model for Kaggle submission)"
   ]
  },
  {
   "cell_type": "code",
   "execution_count": 40,
   "id": "coated-irish",
   "metadata": {},
   "outputs": [],
   "source": [
    "def sigmoid(z):\n",
    "   return 1/(1+np.exp(-z))"
   ]
  },
  {
   "cell_type": "code",
   "execution_count": 41,
   "id": "correct-robertson",
   "metadata": {},
   "outputs": [],
   "source": [
    "def f(X, theta):\n",
    "    \"\"\"The sigmoid model we are trying to fit.\n",
    "    \n",
    "    Parameters:\n",
    "    theta (np.array): d-dimensional vector of parameters\n",
    "    X (np.array): (n,d)-dimensional data matrix\n",
    "    \n",
    "    Returns:\n",
    "    y_pred (np.array): n-dimensional vector of predicted targets\n",
    "    \"\"\"\n",
    "    return sigmoid(X.dot(theta))"
   ]
  },
  {
   "cell_type": "code",
   "execution_count": 42,
   "id": "documented-timing",
   "metadata": {},
   "outputs": [],
   "source": [
    "def log_likelihood(theta, X, y):\n",
    "    \"\"\"The cost function, J(theta0, theta1) describing the goodness of fit.\n",
    "    \n",
    "    We added the 1e-6 term in order to avoid overflow (inf and -inf).\n",
    "    \n",
    "    Parameters:\n",
    "    theta (np.array): d-dimensional vector of parameters\n",
    "    X (np.array): (n,d)-dimensional design matrix\n",
    "    y (np.array): n-dimensional vector of targets\n",
    "    \"\"\"\n",
    "    return (y*np.log(f(X, theta) + 1e-6) + (1-y)*np.log(1-f(X, theta) + 1e-6)).mean()"
   ]
  },
  {
   "cell_type": "code",
   "execution_count": 43,
   "id": "retired-drain",
   "metadata": {},
   "outputs": [],
   "source": [
    "def loglik_gradient(theta, X, y):\n",
    "    \"\"\"The cost function, J(theta0, theta1) describing the goodness of fit.\n",
    "    \n",
    "    Parameters:\n",
    "    theta (np.array): d-dimensional vector of parameters\n",
    "    X (np.array): (n,d)-dimensional design matrix\n",
    "    y (np.array): n-dimensional vector of targets\n",
    "    \n",
    "    Returns:\n",
    "    grad (np.array): d-dimensional gradient of the MSE\n",
    "    \"\"\"\n",
    "    return np.mean((f(X, theta)-y) * X.T, axis=1)"
   ]
  },
  {
   "cell_type": "code",
   "execution_count": 44,
   "id": "retired-classroom",
   "metadata": {},
   "outputs": [],
   "source": [
    "#add bias columns to training data\n",
    "X_train['bias'] = 1\n",
    "X_val['bias'] = 1\n",
    "num_cols = X_val.shape[1]"
   ]
  },
  {
   "cell_type": "code",
   "execution_count": 45,
   "id": "fuzzy-binary",
   "metadata": {},
   "outputs": [
    {
     "name": "stdout",
     "output_type": "stream",
     "text": [
      "Iteration 0. Log-likelihood: -0.693145\n"
     ]
    }
   ],
   "source": [
    "threshold = 5e-5\n",
    "step_size = 1e-1\n",
    "\n",
    "theta, theta_prev = np.zeros((num_cols,)), np.ones((num_cols,))\n",
    "opt_pts = [theta]\n",
    "opt_grads = []\n",
    "iter = 0\n",
    "X_train_t = X_train.to_numpy()\n",
    "y_train_t = y_train.to_numpy()\n",
    "\n",
    "while np.linalg.norm(theta - theta_prev) > threshold:\n",
    "    if iter % 50000 == 0:\n",
    "        print('Iteration %d. Log-likelihood: %.6f' % (iter, log_likelihood(theta, X_train_t, y_train_t)))\n",
    "    theta_prev = theta\n",
    "    gradient = loglik_gradient(theta, X_train_t, y_train_t)\n",
    "    theta = theta_prev - step_size * gradient\n",
    "    opt_pts += [theta]\n",
    "    opt_grads += [gradient]\n",
    "    iter += 1"
   ]
  },
  {
   "cell_type": "code",
   "execution_count": 46,
   "id": "rubber-albany",
   "metadata": {},
   "outputs": [],
   "source": [
    "X_val_t = X_val.to_numpy()\n",
    "y_val_preds = f(X_val_t, theta)\n",
    "y_val_preds[y_val_preds<0.5] = 0\n",
    "y_val_preds[y_val_preds>=0.5] = 1"
   ]
  },
  {
   "cell_type": "code",
   "execution_count": 47,
   "id": "standard-advice",
   "metadata": {},
   "outputs": [
    {
     "data": {
      "text/plain": [
       "(9,)"
      ]
     },
     "execution_count": 47,
     "metadata": {},
     "output_type": "execute_result"
    }
   ],
   "source": [
    "theta.shape"
   ]
  },
  {
   "cell_type": "code",
   "execution_count": 48,
   "id": "sunset-british",
   "metadata": {},
   "outputs": [
    {
     "name": "stdout",
     "output_type": "stream",
     "text": [
      "              precision    recall  f1-score   support\n",
      "\n",
      "         0.0       0.78      0.87      0.82       154\n",
      "         1.0       0.79      0.68      0.73       114\n",
      "\n",
      "    accuracy                           0.79       268\n",
      "   macro avg       0.79      0.77      0.78       268\n",
      "weighted avg       0.79      0.79      0.78       268\n",
      "\n"
     ]
    }
   ],
   "source": [
    "from sklearn.metrics import classification_report\n",
    "print(classification_report(y_val,y_val_preds))"
   ]
  },
  {
   "cell_type": "code",
   "execution_count": 49,
   "id": "prerequisite-florist",
   "metadata": {},
   "outputs": [
    {
     "data": {
      "text/plain": [
       "0.787"
      ]
     },
     "execution_count": 49,
     "metadata": {},
     "output_type": "execute_result"
    }
   ],
   "source": [
    "from sklearn.metrics import accuracy_score\n",
    "round((accuracy_score(y_val,y_val_preds,normalize=True)),3)"
   ]
  },
  {
   "cell_type": "markdown",
   "id": "informational-collect",
   "metadata": {},
   "source": [
    "# Re-Train using entire Training set and predict using Test set (for Kaggle submission)"
   ]
  },
  {
   "cell_type": "code",
   "execution_count": 50,
   "id": "congressional-aquatic",
   "metadata": {},
   "outputs": [],
   "source": [
    "X_train_kaggle = train_final.drop(['Survived'], axis=1)\n",
    "X_train_kaggle['bias'] = 1\n",
    "y_train_kaggle = train_final['Survived']\n",
    "num_cols_k = X_val.shape[1]"
   ]
  },
  {
   "cell_type": "code",
   "execution_count": 51,
   "id": "macro-federation",
   "metadata": {},
   "outputs": [],
   "source": [
    "test_final['bias'] = 1\n",
    "test_final.drop('Survived', axis=1, inplace=True)"
   ]
  },
  {
   "cell_type": "code",
   "execution_count": 52,
   "id": "indie-window",
   "metadata": {},
   "outputs": [
    {
     "name": "stdout",
     "output_type": "stream",
     "text": [
      "Iteration 0. Log-likelihood: -0.693145\n"
     ]
    }
   ],
   "source": [
    "threshold = 5e-5\n",
    "step_size = 1e-1\n",
    "\n",
    "theta_k, theta_prev_k = np.zeros((num_cols_k,)), np.ones((num_cols_k,))\n",
    "opt_pts_k = [theta_k]\n",
    "opt_grads_k = []\n",
    "iter = 0\n",
    "X_train_k = X_train_kaggle.to_numpy()\n",
    "y_train_k = y_train_kaggle.to_numpy()\n",
    "\n",
    "while np.linalg.norm(theta_k - theta_prev_k) > threshold:\n",
    "    if iter % 50000 == 0:\n",
    "        print('Iteration %d. Log-likelihood: %.6f' % (iter, log_likelihood(theta_k, X_train_k, y_train_k)))\n",
    "    theta_prev_k = theta_k\n",
    "    gradient_k = loglik_gradient(theta_k, X_train_k, y_train_k)\n",
    "    theta_k = theta_prev_k - step_size * gradient_k\n",
    "    opt_pts_k += [theta_k]\n",
    "    opt_grads_k += [gradient_k]\n",
    "    iter += 1"
   ]
  },
  {
   "cell_type": "code",
   "execution_count": 53,
   "id": "attractive-fields",
   "metadata": {},
   "outputs": [],
   "source": [
    "# test_final.drop('Deck_T', axis=1, inplace=True)"
   ]
  },
  {
   "cell_type": "code",
   "execution_count": 54,
   "id": "sublime-demand",
   "metadata": {},
   "outputs": [
    {
     "data": {
      "text/html": [
       "<div>\n",
       "<style scoped>\n",
       "    .dataframe tbody tr th:only-of-type {\n",
       "        vertical-align: middle;\n",
       "    }\n",
       "\n",
       "    .dataframe tbody tr th {\n",
       "        vertical-align: top;\n",
       "    }\n",
       "\n",
       "    .dataframe thead th {\n",
       "        text-align: right;\n",
       "    }\n",
       "</style>\n",
       "<table border=\"1\" class=\"dataframe\">\n",
       "  <thead>\n",
       "    <tr style=\"text-align: right;\">\n",
       "      <th></th>\n",
       "      <th>Pclass</th>\n",
       "      <th>Age</th>\n",
       "      <th>Fare</th>\n",
       "      <th>Num_Relatives</th>\n",
       "      <th>Travelled_Alone</th>\n",
       "      <th>Sex_male</th>\n",
       "      <th>Embarked_Q</th>\n",
       "      <th>Embarked_S</th>\n",
       "      <th>bias</th>\n",
       "    </tr>\n",
       "  </thead>\n",
       "  <tbody>\n",
       "    <tr>\n",
       "      <td>0</td>\n",
       "      <td>1.0</td>\n",
       "      <td>0.428248</td>\n",
       "      <td>0.015282</td>\n",
       "      <td>0.0</td>\n",
       "      <td>0.0</td>\n",
       "      <td>1.0</td>\n",
       "      <td>1.0</td>\n",
       "      <td>0.0</td>\n",
       "      <td>1</td>\n",
       "    </tr>\n",
       "    <tr>\n",
       "      <td>1</td>\n",
       "      <td>1.0</td>\n",
       "      <td>0.585323</td>\n",
       "      <td>0.013663</td>\n",
       "      <td>0.1</td>\n",
       "      <td>0.0</td>\n",
       "      <td>0.0</td>\n",
       "      <td>0.0</td>\n",
       "      <td>1.0</td>\n",
       "      <td>1</td>\n",
       "    </tr>\n",
       "    <tr>\n",
       "      <td>2</td>\n",
       "      <td>0.5</td>\n",
       "      <td>0.773813</td>\n",
       "      <td>0.018909</td>\n",
       "      <td>0.0</td>\n",
       "      <td>1.0</td>\n",
       "      <td>1.0</td>\n",
       "      <td>1.0</td>\n",
       "      <td>0.0</td>\n",
       "      <td>1</td>\n",
       "    </tr>\n",
       "    <tr>\n",
       "      <td>3</td>\n",
       "      <td>1.0</td>\n",
       "      <td>0.334004</td>\n",
       "      <td>0.016908</td>\n",
       "      <td>0.0</td>\n",
       "      <td>0.0</td>\n",
       "      <td>1.0</td>\n",
       "      <td>0.0</td>\n",
       "      <td>1.0</td>\n",
       "      <td>1</td>\n",
       "    </tr>\n",
       "    <tr>\n",
       "      <td>4</td>\n",
       "      <td>1.0</td>\n",
       "      <td>0.271174</td>\n",
       "      <td>0.023984</td>\n",
       "      <td>0.2</td>\n",
       "      <td>1.0</td>\n",
       "      <td>0.0</td>\n",
       "      <td>0.0</td>\n",
       "      <td>1.0</td>\n",
       "      <td>1</td>\n",
       "    </tr>\n",
       "    <tr>\n",
       "      <td>...</td>\n",
       "      <td>...</td>\n",
       "      <td>...</td>\n",
       "      <td>...</td>\n",
       "      <td>...</td>\n",
       "      <td>...</td>\n",
       "      <td>...</td>\n",
       "      <td>...</td>\n",
       "      <td>...</td>\n",
       "      <td>...</td>\n",
       "    </tr>\n",
       "    <tr>\n",
       "      <td>413</td>\n",
       "      <td>1.0</td>\n",
       "      <td>0.296657</td>\n",
       "      <td>0.015713</td>\n",
       "      <td>0.0</td>\n",
       "      <td>1.0</td>\n",
       "      <td>1.0</td>\n",
       "      <td>0.0</td>\n",
       "      <td>1.0</td>\n",
       "      <td>1</td>\n",
       "    </tr>\n",
       "    <tr>\n",
       "      <td>414</td>\n",
       "      <td>0.0</td>\n",
       "      <td>0.484795</td>\n",
       "      <td>0.212559</td>\n",
       "      <td>0.0</td>\n",
       "      <td>1.0</td>\n",
       "      <td>0.0</td>\n",
       "      <td>0.0</td>\n",
       "      <td>0.0</td>\n",
       "      <td>1</td>\n",
       "    </tr>\n",
       "    <tr>\n",
       "      <td>415</td>\n",
       "      <td>1.0</td>\n",
       "      <td>0.478512</td>\n",
       "      <td>0.014151</td>\n",
       "      <td>0.0</td>\n",
       "      <td>1.0</td>\n",
       "      <td>1.0</td>\n",
       "      <td>0.0</td>\n",
       "      <td>1.0</td>\n",
       "      <td>1</td>\n",
       "    </tr>\n",
       "    <tr>\n",
       "      <td>416</td>\n",
       "      <td>1.0</td>\n",
       "      <td>0.296657</td>\n",
       "      <td>0.015713</td>\n",
       "      <td>0.0</td>\n",
       "      <td>0.0</td>\n",
       "      <td>1.0</td>\n",
       "      <td>0.0</td>\n",
       "      <td>1.0</td>\n",
       "      <td>1</td>\n",
       "    </tr>\n",
       "    <tr>\n",
       "      <td>417</td>\n",
       "      <td>1.0</td>\n",
       "      <td>0.296657</td>\n",
       "      <td>0.043640</td>\n",
       "      <td>0.2</td>\n",
       "      <td>0.0</td>\n",
       "      <td>1.0</td>\n",
       "      <td>0.0</td>\n",
       "      <td>0.0</td>\n",
       "      <td>1</td>\n",
       "    </tr>\n",
       "  </tbody>\n",
       "</table>\n",
       "<p>418 rows × 9 columns</p>\n",
       "</div>"
      ],
      "text/plain": [
       "     Pclass       Age      Fare  Num_Relatives  Travelled_Alone  Sex_male  \\\n",
       "0       1.0  0.428248  0.015282            0.0              0.0       1.0   \n",
       "1       1.0  0.585323  0.013663            0.1              0.0       0.0   \n",
       "2       0.5  0.773813  0.018909            0.0              1.0       1.0   \n",
       "3       1.0  0.334004  0.016908            0.0              0.0       1.0   \n",
       "4       1.0  0.271174  0.023984            0.2              1.0       0.0   \n",
       "..      ...       ...       ...            ...              ...       ...   \n",
       "413     1.0  0.296657  0.015713            0.0              1.0       1.0   \n",
       "414     0.0  0.484795  0.212559            0.0              1.0       0.0   \n",
       "415     1.0  0.478512  0.014151            0.0              1.0       1.0   \n",
       "416     1.0  0.296657  0.015713            0.0              0.0       1.0   \n",
       "417     1.0  0.296657  0.043640            0.2              0.0       1.0   \n",
       "\n",
       "     Embarked_Q  Embarked_S  bias  \n",
       "0           1.0         0.0     1  \n",
       "1           0.0         1.0     1  \n",
       "2           1.0         0.0     1  \n",
       "3           0.0         1.0     1  \n",
       "4           0.0         1.0     1  \n",
       "..          ...         ...   ...  \n",
       "413         0.0         1.0     1  \n",
       "414         0.0         0.0     1  \n",
       "415         0.0         1.0     1  \n",
       "416         0.0         1.0     1  \n",
       "417         0.0         0.0     1  \n",
       "\n",
       "[418 rows x 9 columns]"
      ]
     },
     "execution_count": 54,
     "metadata": {},
     "output_type": "execute_result"
    }
   ],
   "source": [
    "test_final"
   ]
  },
  {
   "cell_type": "code",
   "execution_count": 55,
   "id": "talented-struggle",
   "metadata": {},
   "outputs": [],
   "source": [
    "y_pred_kaggle = f(test_final, theta_k)\n",
    "y_pred_kaggle[y_pred_kaggle<0.5] = 0\n",
    "y_pred_kaggle[y_pred_kaggle>=0.5] = 1\n",
    "y_pred_kaggle = y_pred_kaggle.astype(int)"
   ]
  },
  {
   "cell_type": "code",
   "execution_count": 56,
   "id": "handled-spray",
   "metadata": {},
   "outputs": [
    {
     "data": {
      "text/plain": [
       "0      0\n",
       "1      0\n",
       "2      0\n",
       "3      0\n",
       "4      0\n",
       "      ..\n",
       "413    0\n",
       "414    1\n",
       "415    0\n",
       "416    0\n",
       "417    0\n",
       "Length: 418, dtype: int64"
      ]
     },
     "execution_count": 56,
     "metadata": {},
     "output_type": "execute_result"
    }
   ],
   "source": [
    "y_pred_kaggle"
   ]
  },
  {
   "cell_type": "code",
   "execution_count": 57,
   "id": "incorporate-belief",
   "metadata": {},
   "outputs": [],
   "source": [
    "test_ids = pd.read_csv('titanic/test.csv')['PassengerId']"
   ]
  },
  {
   "cell_type": "code",
   "execution_count": 58,
   "id": "alert-engineering",
   "metadata": {},
   "outputs": [
    {
     "data": {
      "text/html": [
       "<div>\n",
       "<style scoped>\n",
       "    .dataframe tbody tr th:only-of-type {\n",
       "        vertical-align: middle;\n",
       "    }\n",
       "\n",
       "    .dataframe tbody tr th {\n",
       "        vertical-align: top;\n",
       "    }\n",
       "\n",
       "    .dataframe thead th {\n",
       "        text-align: right;\n",
       "    }\n",
       "</style>\n",
       "<table border=\"1\" class=\"dataframe\">\n",
       "  <thead>\n",
       "    <tr style=\"text-align: right;\">\n",
       "      <th></th>\n",
       "      <th>PassengerId</th>\n",
       "      <th>Survived</th>\n",
       "    </tr>\n",
       "  </thead>\n",
       "  <tbody>\n",
       "    <tr>\n",
       "      <td>0</td>\n",
       "      <td>892</td>\n",
       "      <td>0</td>\n",
       "    </tr>\n",
       "    <tr>\n",
       "      <td>1</td>\n",
       "      <td>893</td>\n",
       "      <td>0</td>\n",
       "    </tr>\n",
       "    <tr>\n",
       "      <td>2</td>\n",
       "      <td>894</td>\n",
       "      <td>0</td>\n",
       "    </tr>\n",
       "    <tr>\n",
       "      <td>3</td>\n",
       "      <td>895</td>\n",
       "      <td>0</td>\n",
       "    </tr>\n",
       "    <tr>\n",
       "      <td>4</td>\n",
       "      <td>896</td>\n",
       "      <td>0</td>\n",
       "    </tr>\n",
       "    <tr>\n",
       "      <td>...</td>\n",
       "      <td>...</td>\n",
       "      <td>...</td>\n",
       "    </tr>\n",
       "    <tr>\n",
       "      <td>413</td>\n",
       "      <td>1305</td>\n",
       "      <td>0</td>\n",
       "    </tr>\n",
       "    <tr>\n",
       "      <td>414</td>\n",
       "      <td>1306</td>\n",
       "      <td>1</td>\n",
       "    </tr>\n",
       "    <tr>\n",
       "      <td>415</td>\n",
       "      <td>1307</td>\n",
       "      <td>0</td>\n",
       "    </tr>\n",
       "    <tr>\n",
       "      <td>416</td>\n",
       "      <td>1308</td>\n",
       "      <td>0</td>\n",
       "    </tr>\n",
       "    <tr>\n",
       "      <td>417</td>\n",
       "      <td>1309</td>\n",
       "      <td>0</td>\n",
       "    </tr>\n",
       "  </tbody>\n",
       "</table>\n",
       "<p>418 rows × 2 columns</p>\n",
       "</div>"
      ],
      "text/plain": [
       "     PassengerId  Survived\n",
       "0            892         0\n",
       "1            893         0\n",
       "2            894         0\n",
       "3            895         0\n",
       "4            896         0\n",
       "..           ...       ...\n",
       "413         1305         0\n",
       "414         1306         1\n",
       "415         1307         0\n",
       "416         1308         0\n",
       "417         1309         0\n",
       "\n",
       "[418 rows x 2 columns]"
      ]
     },
     "execution_count": 58,
     "metadata": {},
     "output_type": "execute_result"
    }
   ],
   "source": [
    "kaggle_submit = pd.concat([test_ids, y_pred_kaggle], axis=1)\n",
    "kaggle_submit = kaggle_submit.rename(columns={0: \"Survived\"})\n",
    "kaggle_submit"
   ]
  },
  {
   "cell_type": "code",
   "execution_count": 59,
   "id": "dense-projector",
   "metadata": {},
   "outputs": [],
   "source": [
    "kaggle_submit.to_csv('titanic_kaggle_submission_case4.csv', index=False)"
   ]
  }
 ],
 "metadata": {
  "kernelspec": {
   "display_name": "Python 3",
   "language": "python",
   "name": "python3"
  },
  "language_info": {
   "codemirror_mode": {
    "name": "ipython",
    "version": 3
   },
   "file_extension": ".py",
   "mimetype": "text/x-python",
   "name": "python",
   "nbconvert_exporter": "python",
   "pygments_lexer": "ipython3",
   "version": "3.7.4"
  }
 },
 "nbformat": 4,
 "nbformat_minor": 5
}
